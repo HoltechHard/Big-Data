{
 "cells": [
  {
   "cell_type": "markdown",
   "metadata": {
    "deletable": true,
    "editable": true
   },
   "source": [
    "MODELO PREDITIVO DE TAXIS USANDO BIG-QUERY + TENSORFLOW"
   ]
  },
  {
   "cell_type": "markdown",
   "metadata": {
    "deletable": true,
    "editable": true
   },
   "source": [
    "Neste notebook, se desenvolverá um modelo preditivo de Machine Learning para predizer\n",
    "a demanda dos taxis no centro de Nova York"
   ]
  },
  {
   "cell_type": "markdown",
   "metadata": {
    "deletable": true,
    "editable": true
   },
   "source": [
    "1) Recopilação de dados históricos usando BigQuery"
   ]
  },
  {
   "cell_type": "code",
   "execution_count": 2,
   "metadata": {
    "collapsed": true,
    "deletable": true,
    "editable": true
   },
   "outputs": [],
   "source": [
    "import google.datalab.bigquery as bq\n",
    "import pandas as pd\n",
    "import numpy as np\n",
    "import shutil"
   ]
  },
  {
   "cell_type": "code",
   "execution_count": 3,
   "metadata": {
    "collapsed": false,
    "deletable": true,
    "editable": true
   },
   "outputs": [
    {
     "data": {
      "text/html": [
       "\n",
       "    <div class=\"bqsv\" id=\"1_152824946944\"></div>\n",
       "    <script src=\"/static/components/requirejs/require.js\"></script>\n",
       "    <script>\n",
       "      require.config({\n",
       "        paths: {\n",
       "          base: '/static/base',\n",
       "        },\n",
       "        map: {\n",
       "          '*': {\n",
       "            datalab: 'nbextensions/gcpdatalab'\n",
       "          }\n",
       "        },\n",
       "      });\n",
       "\n",
       "      require(['datalab/bigquery', 'datalab/element!1_152824946944',\n",
       "          'datalab/style!/nbextensions/gcpdatalab/bigquery.css'],\n",
       "        function(bq, dom) {\n",
       "          bq.renderSchema(dom, [{\"description\": \"A code indicating the TPEP provider that provided the record. 1= Creative Mobile Technologies, LLC; 2= VeriFone Inc\", \"type\": \"STRING\", \"name\": \"vendor_id\", \"mode\": \"REQUIRED\"}, {\"description\": \"The date and time when the meter was engaged.\", \"type\": \"TIMESTAMP\", \"name\": \"pickup_datetime\", \"mode\": \"NULLABLE\"}, {\"description\": \"The date and time when the meter was disengaged.\", \"type\": \"TIMESTAMP\", \"name\": \"dropoff_datetime\", \"mode\": \"NULLABLE\"}, {\"description\": \"The number of passengers in the vehicle. This is a driver-entered value\", \"type\": \"INTEGER\", \"name\": \"passenger_count\", \"mode\": \"NULLABLE\"}, {\"description\": \"The elapsed trip distance in miles reported by the taximeter.\", \"type\": \"FLOAT\", \"name\": \"trip_distance\", \"mode\": \"NULLABLE\"}, {\"description\": \"Longitude where the meter was engaged.\", \"type\": \"FLOAT\", \"name\": \"pickup_longitude\", \"mode\": \"NULLABLE\"}, {\"description\": \"Latitude where the meter was engaged.\", \"type\": \"FLOAT\", \"name\": \"pickup_latitude\", \"mode\": \"NULLABLE\"}, {\"description\": \"The final rate code in effect at the end of the trip. 1= Standard rate 2=JFK 3=Newark 4=Nassau or Westchester 5=Negotiated fare 6=Group ride\", \"type\": \"INTEGER\", \"name\": \"rate_code\", \"mode\": \"NULLABLE\"}, {\"description\": \"This flag indicates whether the trip record was held in vehicle memory before sending to the vendor, aka \\u201cstore and forward,\\u201d because the vehicle did not have a connection to the server. Y= store and forward trip N= not a store and forward trip\", \"type\": \"STRING\", \"name\": \"store_and_fwd_flag\", \"mode\": \"NULLABLE\"}, {\"description\": \"Longitude where the meter was disengaged\", \"type\": \"FLOAT\", \"name\": \"dropoff_longitude\", \"mode\": \"NULLABLE\"}, {\"description\": \"Latitude where the meter was disengaged.\", \"type\": \"FLOAT\", \"name\": \"dropoff_latitude\", \"mode\": \"NULLABLE\"}, {\"description\": \"A numeric code signifying how the passenger paid for the trip. 1= Credit card 2= Cash 3= No charge 4= Dispute 5= Unknown 6= Voided trip\", \"type\": \"STRING\", \"name\": \"payment_type\", \"mode\": \"NULLABLE\"}, {\"description\": \"The time-and-distance fare calculated by the meter\", \"type\": \"FLOAT\", \"name\": \"fare_amount\", \"mode\": \"NULLABLE\"}, {\"description\": \"Miscellaneous extras and surcharges. Currently, this only includes the $0.50 and $1 rush hour and overnight charges.\", \"type\": \"FLOAT\", \"name\": \"extra\", \"mode\": \"NULLABLE\"}, {\"description\": \"$0.50 MTA tax that is automatically triggered based on the metered rate in use\", \"type\": \"FLOAT\", \"name\": \"mta_tax\", \"mode\": \"NULLABLE\"}, {\"description\": \"Tip amount \\u2013 This field is automatically populated for credit card tips. Cash tips are not included\", \"type\": \"FLOAT\", \"name\": \"tip_amount\", \"mode\": \"NULLABLE\"}, {\"description\": \"Total amount of all tolls paid in trip.\", \"type\": \"FLOAT\", \"name\": \"tolls_amount\", \"mode\": \"NULLABLE\"}, {\"description\": \"$0.30 improvement surcharge assessed trips at the flag drop. The improvement surcharge began being levied in 2015.\", \"type\": \"FLOAT\", \"name\": \"imp_surcharge\", \"mode\": \"NULLABLE\"}, {\"description\": \"The total amount charged to passengers. Does not include cash tips\", \"type\": \"FLOAT\", \"name\": \"total_amount\", \"mode\": \"NULLABLE\"}]);\n",
       "        }\n",
       "      );\n",
       "    </script>\n",
       "    "
      ],
      "text/plain": [
       "<IPython.core.display.HTML object>"
      ]
     },
     "execution_count": 3,
     "metadata": {},
     "output_type": "execute_result"
    }
   ],
   "source": [
    "%bq tables describe --name bigquery-public-data.new_york.tlc_yellow_trips_2015"
   ]
  },
  {
   "cell_type": "markdown",
   "metadata": {
    "deletable": true,
    "editable": true
   },
   "source": [
    "2) Análise Exploratório da demanda dos taxis"
   ]
  },
  {
   "cell_type": "code",
   "execution_count": 4,
   "metadata": {
    "collapsed": false,
    "deletable": true,
    "editable": true
   },
   "outputs": [
    {
     "data": {
      "text/html": [
       "\n",
       "    <div class=\"bqtv\" id=\"2_152824948065\"><table><tr><th>daynumber</th></tr><tr><td>301</td></tr><tr><td>178</td></tr><tr><td>308</td></tr><tr><td>336</td></tr><tr><td>150</td></tr><tr><td>74</td></tr><tr><td>15</td></tr><tr><td>229</td></tr><tr><td>214</td></tr><tr><td>237</td></tr></table></div>\n",
       "    <br />(rows: 10, time: 1.3s,     1GB processed, job: job_1XT-W9mGpPw0b-VfM9Snn1GQgKge)<br />\n",
       "    <script src=\"/static/components/requirejs/require.js\"></script>\n",
       "    <script>\n",
       "      require.config({\n",
       "        paths: {\n",
       "          base: '/static/base',\n",
       "          d3: '//cdnjs.cloudflare.com/ajax/libs/d3/3.4.13/d3',\n",
       "          plotly: 'https://cdn.plot.ly/plotly-1.5.1.min.js?noext',\n",
       "          jquery: '//ajax.googleapis.com/ajax/libs/jquery/2.0.0/jquery.min'\n",
       "        },\n",
       "        map: {\n",
       "          '*': {\n",
       "            datalab: 'nbextensions/gcpdatalab'\n",
       "          }\n",
       "        },\n",
       "        shim: {\n",
       "          plotly: {\n",
       "            deps: ['d3', 'jquery'],\n",
       "            exports: 'plotly'\n",
       "          }\n",
       "        }\n",
       "      });\n",
       "\n",
       "      require(['datalab/charting', 'datalab/element!2_152824948065', 'base/js/events',\n",
       "          'datalab/style!/nbextensions/gcpdatalab/charting.css'],\n",
       "        function(charts, dom, events) {\n",
       "          charts.render('gcharts', dom, events, 'table', [], {\"rows\": [{\"c\": [{\"v\": 301}]}, {\"c\": [{\"v\": 178}]}, {\"c\": [{\"v\": 308}]}, {\"c\": [{\"v\": 336}]}, {\"c\": [{\"v\": 150}]}, {\"c\": [{\"v\": 74}]}, {\"c\": [{\"v\": 15}]}, {\"c\": [{\"v\": 229}]}, {\"c\": [{\"v\": 214}]}, {\"c\": [{\"v\": 237}]}], \"cols\": [{\"type\": \"number\", \"id\": \"daynumber\", \"label\": \"daynumber\"}]},\n",
       "            {\n",
       "              pageSize: 25,\n",
       "              cssClassNames:  {\n",
       "                tableRow: 'gchart-table-row',\n",
       "                headerRow: 'gchart-table-headerrow',\n",
       "                oddTableRow: 'gchart-table-oddrow',\n",
       "                selectedTableRow: 'gchart-table-selectedrow',\n",
       "                hoverTableRow: 'gchart-table-hoverrow',\n",
       "                tableCell: 'gchart-table-cell',\n",
       "                headerCell: 'gchart-table-headercell',\n",
       "                rowNumberCell: 'gchart-table-rownumcell'\n",
       "              }\n",
       "            },\n",
       "            {source_index: 0, fields: 'daynumber'},\n",
       "            0,\n",
       "            10);\n",
       "        }\n",
       "      );\n",
       "    </script>\n",
       "  "
      ],
      "text/plain": [
       "QueryResultsTable job_1XT-W9mGpPw0b-VfM9Snn1GQgKge"
      ]
     },
     "execution_count": 4,
     "metadata": {},
     "output_type": "execute_result"
    }
   ],
   "source": [
    "%bq query\n",
    "SELECT \n",
    "  EXTRACT (DAYOFYEAR from pickup_datetime) AS daynumber\n",
    "FROM `bigquery-public-data.new_york.tlc_yellow_trips_2015` \n",
    "LIMIT 10"
   ]
  },
  {
   "cell_type": "markdown",
   "metadata": {
    "deletable": true,
    "editable": true
   },
   "source": [
    "3) Transformação de dados obtidos pela consulta BigQuery para DataFrame - TaxisDataSet"
   ]
  },
  {
   "cell_type": "code",
   "execution_count": 5,
   "metadata": {
    "collapsed": true,
    "deletable": true,
    "editable": true
   },
   "outputs": [],
   "source": [
    "%bq query -n taxiquery\n",
    "with trips as (\n",
    "  select extract(dayofyear from pickup_datetime) as daynumber\n",
    "  from `bigquery-public-data.new_york.tlc_yellow_trips_*`\n",
    "  where _TABLE_SUFFIX = @YEAR\n",
    ")\n",
    "select daynumber, count(1) as numtrips\n",
    "from trips \n",
    "group by daynumber \n",
    "order by daynumber\n"
   ]
  },
  {
   "cell_type": "code",
   "execution_count": 6,
   "metadata": {
    "collapsed": false,
    "deletable": true,
    "editable": true
   },
   "outputs": [
    {
     "data": {
      "text/html": [
       "<div>\n",
       "<style scoped>\n",
       "    .dataframe tbody tr th:only-of-type {\n",
       "        vertical-align: middle;\n",
       "    }\n",
       "\n",
       "    .dataframe tbody tr th {\n",
       "        vertical-align: top;\n",
       "    }\n",
       "\n",
       "    .dataframe thead th {\n",
       "        text-align: right;\n",
       "    }\n",
       "</style>\n",
       "<table border=\"1\" class=\"dataframe\">\n",
       "  <thead>\n",
       "    <tr style=\"text-align: right;\">\n",
       "      <th></th>\n",
       "      <th>daynumber</th>\n",
       "      <th>numtrips</th>\n",
       "    </tr>\n",
       "  </thead>\n",
       "  <tbody>\n",
       "    <tr>\n",
       "      <th>0</th>\n",
       "      <td>1</td>\n",
       "      <td>382014</td>\n",
       "    </tr>\n",
       "    <tr>\n",
       "      <th>1</th>\n",
       "      <td>2</td>\n",
       "      <td>345296</td>\n",
       "    </tr>\n",
       "    <tr>\n",
       "      <th>2</th>\n",
       "      <td>3</td>\n",
       "      <td>406769</td>\n",
       "    </tr>\n",
       "    <tr>\n",
       "      <th>3</th>\n",
       "      <td>4</td>\n",
       "      <td>328848</td>\n",
       "    </tr>\n",
       "    <tr>\n",
       "      <th>4</th>\n",
       "      <td>5</td>\n",
       "      <td>363454</td>\n",
       "    </tr>\n",
       "    <tr>\n",
       "      <th>5</th>\n",
       "      <td>6</td>\n",
       "      <td>384324</td>\n",
       "    </tr>\n",
       "    <tr>\n",
       "      <th>6</th>\n",
       "      <td>7</td>\n",
       "      <td>429653</td>\n",
       "    </tr>\n",
       "    <tr>\n",
       "      <th>7</th>\n",
       "      <td>8</td>\n",
       "      <td>450920</td>\n",
       "    </tr>\n",
       "    <tr>\n",
       "      <th>8</th>\n",
       "      <td>9</td>\n",
       "      <td>447947</td>\n",
       "    </tr>\n",
       "    <tr>\n",
       "      <th>9</th>\n",
       "      <td>10</td>\n",
       "      <td>515540</td>\n",
       "    </tr>\n",
       "  </tbody>\n",
       "</table>\n",
       "</div>"
      ],
      "text/plain": [
       "   daynumber  numtrips\n",
       "0          1    382014\n",
       "1          2    345296\n",
       "2          3    406769\n",
       "3          4    328848\n",
       "4          5    363454\n",
       "5          6    384324\n",
       "6          7    429653\n",
       "7          8    450920\n",
       "8          9    447947\n",
       "9         10    515540"
      ]
     },
     "execution_count": 6,
     "metadata": {},
     "output_type": "execute_result"
    }
   ],
   "source": [
    "query_parameters = [\n",
    "  {\n",
    "    'name' : 'YEAR', \n",
    "    'parameterType'  : {'type'  : 'STRING'},\n",
    "    'parameterValue' : {'value' : 2015} \n",
    "  }\n",
    "]\n",
    "trips = taxiquery.execute(query_params = query_parameters).result().to_dataframe()\n",
    "trips[:10]"
   ]
  },
  {
   "cell_type": "markdown",
   "metadata": {
    "deletable": true,
    "editable": true
   },
   "source": [
    "4) Brenchmark Estatístico [Cálculo da media]"
   ]
  },
  {
   "cell_type": "code",
   "execution_count": 7,
   "metadata": {
    "collapsed": false,
    "deletable": true,
    "editable": true
   },
   "outputs": [
    {
     "name": "stdout",
     "output_type": "stream",
     "text": [
      "Avg: 400309.5589\n",
      "RMSE: 51613.65169\n"
     ]
    }
   ],
   "source": [
    "avg = round(np.mean(trips['numtrips']), 5)\n",
    "rmse = round(np.sqrt(np.mean((trips['numtrips'] - avg)**2)), 5)\n",
    "print('Avg: ' + str(avg))\n",
    "print('RMSE: ' + str(rmse))"
   ]
  },
  {
   "cell_type": "markdown",
   "metadata": {
    "deletable": true,
    "editable": true
   },
   "source": [
    "5) Análise Exploratório de dados climáticos"
   ]
  },
  {
   "cell_type": "code",
   "execution_count": 8,
   "metadata": {
    "collapsed": false,
    "deletable": true,
    "editable": true
   },
   "outputs": [
    {
     "data": {
      "text/html": [
       "\n",
       "    <div class=\"bqsv\" id=\"3_152824952159\"></div>\n",
       "    <script src=\"/static/components/requirejs/require.js\"></script>\n",
       "    <script>\n",
       "      require.config({\n",
       "        paths: {\n",
       "          base: '/static/base',\n",
       "        },\n",
       "        map: {\n",
       "          '*': {\n",
       "            datalab: 'nbextensions/gcpdatalab'\n",
       "          }\n",
       "        },\n",
       "      });\n",
       "\n",
       "      require(['datalab/bigquery', 'datalab/element!3_152824952159',\n",
       "          'datalab/style!/nbextensions/gcpdatalab/bigquery.css'],\n",
       "        function(bq, dom) {\n",
       "          bq.renderSchema(dom, [{\"description\": \"\", \"type\": \"STRING\", \"name\": \"usaf\", \"mode\": \"NULLABLE\"}, {\"description\": \"\", \"type\": \"STRING\", \"name\": \"wban\", \"mode\": \"NULLABLE\"}, {\"description\": \"\", \"type\": \"STRING\", \"name\": \"name\", \"mode\": \"NULLABLE\"}, {\"description\": \"\", \"type\": \"STRING\", \"name\": \"country\", \"mode\": \"NULLABLE\"}, {\"description\": \"\", \"type\": \"STRING\", \"name\": \"state\", \"mode\": \"NULLABLE\"}, {\"description\": \"\", \"type\": \"STRING\", \"name\": \"call\", \"mode\": \"NULLABLE\"}, {\"description\": \"\", \"type\": \"FLOAT\", \"name\": \"lat\", \"mode\": \"NULLABLE\"}, {\"description\": \"\", \"type\": \"FLOAT\", \"name\": \"lon\", \"mode\": \"NULLABLE\"}, {\"description\": \"\", \"type\": \"STRING\", \"name\": \"elev\", \"mode\": \"NULLABLE\"}, {\"description\": \"\", \"type\": \"STRING\", \"name\": \"begin\", \"mode\": \"NULLABLE\"}, {\"description\": \"\", \"type\": \"STRING\", \"name\": \"end\", \"mode\": \"NULLABLE\"}]);\n",
       "        }\n",
       "      );\n",
       "    </script>\n",
       "    "
      ],
      "text/plain": [
       "<IPython.core.display.HTML object>"
      ]
     },
     "execution_count": 8,
     "metadata": {},
     "output_type": "execute_result"
    }
   ],
   "source": [
    "%bq tables describe --name bigquery-public-data.noaa_gsod.stations"
   ]
  },
  {
   "cell_type": "code",
   "execution_count": 9,
   "metadata": {
    "collapsed": false,
    "deletable": true,
    "editable": true
   },
   "outputs": [
    {
     "data": {
      "text/html": [
       "\n",
       "    <div class=\"bqtv\" id=\"4_152824953640\"><table><tr><th>usaf</th><th>wban</th><th>name</th><th>country</th><th>state</th><th>call</th><th>lat</th><th>lon</th><th>elev</th><th>begin</th><th>end</th></tr><tr><td>725030</td><td>14732</td><td>LA GUARDIA AIRPORT</td><td>US</td><td>NY</td><td>KLGA</td><td>40.779</td><td>-73.88</td><td>+0003.4</td><td>19730101</td><td>20180604</td></tr></table></div>\n",
       "    <br />(rows: 1, time: 2.8s,     2MB processed, job: job_-_0_OMGOwWSJSmP_LBANmp-HJsxC)<br />\n",
       "    <script src=\"/static/components/requirejs/require.js\"></script>\n",
       "    <script>\n",
       "      require.config({\n",
       "        paths: {\n",
       "          base: '/static/base',\n",
       "          d3: '//cdnjs.cloudflare.com/ajax/libs/d3/3.4.13/d3',\n",
       "          plotly: 'https://cdn.plot.ly/plotly-1.5.1.min.js?noext',\n",
       "          jquery: '//ajax.googleapis.com/ajax/libs/jquery/2.0.0/jquery.min'\n",
       "        },\n",
       "        map: {\n",
       "          '*': {\n",
       "            datalab: 'nbextensions/gcpdatalab'\n",
       "          }\n",
       "        },\n",
       "        shim: {\n",
       "          plotly: {\n",
       "            deps: ['d3', 'jquery'],\n",
       "            exports: 'plotly'\n",
       "          }\n",
       "        }\n",
       "      });\n",
       "\n",
       "      require(['datalab/charting', 'datalab/element!4_152824953640', 'base/js/events',\n",
       "          'datalab/style!/nbextensions/gcpdatalab/charting.css'],\n",
       "        function(charts, dom, events) {\n",
       "          charts.render('gcharts', dom, events, 'table', [], {\"rows\": [{\"c\": [{\"v\": \"725030\"}, {\"v\": \"14732\"}, {\"v\": \"LA GUARDIA AIRPORT\"}, {\"v\": \"US\"}, {\"v\": \"NY\"}, {\"v\": \"KLGA\"}, {\"v\": 40.779}, {\"v\": -73.88}, {\"v\": \"+0003.4\"}, {\"v\": \"19730101\"}, {\"v\": \"20180604\"}]}], \"cols\": [{\"type\": \"string\", \"id\": \"usaf\", \"label\": \"usaf\"}, {\"type\": \"string\", \"id\": \"wban\", \"label\": \"wban\"}, {\"type\": \"string\", \"id\": \"name\", \"label\": \"name\"}, {\"type\": \"string\", \"id\": \"country\", \"label\": \"country\"}, {\"type\": \"string\", \"id\": \"state\", \"label\": \"state\"}, {\"type\": \"string\", \"id\": \"call\", \"label\": \"call\"}, {\"type\": \"number\", \"id\": \"lat\", \"label\": \"lat\"}, {\"type\": \"number\", \"id\": \"lon\", \"label\": \"lon\"}, {\"type\": \"string\", \"id\": \"elev\", \"label\": \"elev\"}, {\"type\": \"string\", \"id\": \"begin\", \"label\": \"begin\"}, {\"type\": \"string\", \"id\": \"end\", \"label\": \"end\"}]},\n",
       "            {\n",
       "              pageSize: 25,\n",
       "              cssClassNames:  {\n",
       "                tableRow: 'gchart-table-row',\n",
       "                headerRow: 'gchart-table-headerrow',\n",
       "                oddTableRow: 'gchart-table-oddrow',\n",
       "                selectedTableRow: 'gchart-table-selectedrow',\n",
       "                hoverTableRow: 'gchart-table-hoverrow',\n",
       "                tableCell: 'gchart-table-cell',\n",
       "                headerCell: 'gchart-table-headercell',\n",
       "                rowNumberCell: 'gchart-table-rownumcell'\n",
       "              }\n",
       "            },\n",
       "            {source_index: 1, fields: 'usaf,wban,name,country,state,call,lat,lon,elev,begin,end'},\n",
       "            0,\n",
       "            1);\n",
       "        }\n",
       "      );\n",
       "    </script>\n",
       "  "
      ],
      "text/plain": [
       "QueryResultsTable job_-_0_OMGOwWSJSmP_LBANmp-HJsxC"
      ]
     },
     "execution_count": 9,
     "metadata": {},
     "output_type": "execute_result"
    }
   ],
   "source": [
    "%bq query\n",
    "select *\n",
    "from `bigquery-public-data.noaa_gsod.stations`\n",
    "where state = 'NY' and wban != '99999' and name like '%LA GUARDIA%'"
   ]
  },
  {
   "cell_type": "code",
   "execution_count": 10,
   "metadata": {
    "collapsed": false,
    "deletable": true,
    "editable": true
   },
   "outputs": [
    {
     "data": {
      "text/html": [
       "\n",
       "    <div class=\"bqsv\" id=\"5_152824954640\"></div>\n",
       "    <script src=\"/static/components/requirejs/require.js\"></script>\n",
       "    <script>\n",
       "      require.config({\n",
       "        paths: {\n",
       "          base: '/static/base',\n",
       "        },\n",
       "        map: {\n",
       "          '*': {\n",
       "            datalab: 'nbextensions/gcpdatalab'\n",
       "          }\n",
       "        },\n",
       "      });\n",
       "\n",
       "      require(['datalab/bigquery', 'datalab/element!5_152824954640',\n",
       "          'datalab/style!/nbextensions/gcpdatalab/bigquery.css'],\n",
       "        function(bq, dom) {\n",
       "          bq.renderSchema(dom, [{\"type\": \"STRING\", \"name\": \"stn\", \"description\": \"Station number (WMO/DATSAV3 number) for the location\"}, {\"type\": \"STRING\", \"name\": \"wban\", \"description\": \"WBAN number where applicable--this is the historical \\\"Weather Bureau Air Force Navy\\\" number - with WBAN being the acronym\"}, {\"type\": \"STRING\", \"name\": \"year\", \"description\": \"The year\"}, {\"type\": \"STRING\", \"name\": \"mo\", \"description\": \"The month\"}, {\"type\": \"STRING\", \"name\": \"da\", \"description\": \"The day\"}, {\"type\": \"FLOAT\", \"name\": \"temp\", \"description\": \"Mean temperature for the day in degrees Fahrenheit to tenths. Missing = 9999.9\"}, {\"type\": \"INTEGER\", \"name\": \"count_temp\", \"description\": \"Number of observations used in calculating mean temperature\"}, {\"type\": \"FLOAT\", \"name\": \"dewp\", \"description\": \"Mean dew point for the day in degreesm Fahrenheit to tenths.  Missing = 9999.9\"}, {\"type\": \"INTEGER\", \"name\": \"count_dewp\", \"description\": \"Number of observations used in calculating mean dew point\"}, {\"type\": \"FLOAT\", \"name\": \"slp\", \"description\": \"Mean sea level pressure for the day in millibars to tenths. Missing = 9999.9\"}, {\"type\": \"INTEGER\", \"name\": \"count_slp\", \"description\": \"Number of observations used in calculating mean sea level pressure\"}, {\"type\": \"FLOAT\", \"name\": \"stp\", \"description\": \"Mean station pressure for the day in millibars to tenths. Missing = 9999.9\"}, {\"type\": \"INTEGER\", \"name\": \"count_stp\", \"description\": \"Number of observations used in calculating mean station pressure\"}, {\"type\": \"FLOAT\", \"name\": \"visib\", \"description\": \"Mean visibility for the day in miles to tenths.  Missing = 999.9\"}, {\"type\": \"INTEGER\", \"name\": \"count_visib\", \"description\": \"Number of observations used in calculating mean visibility\"}, {\"type\": \"STRING\", \"name\": \"wdsp\", \"description\": \"Mean wind speed for the day in knots to tenths. Missing = 999.9\"}, {\"type\": \"STRING\", \"name\": \"count_wdsp\", \"description\": \"Number of observations used in calculating mean wind speed\"}, {\"type\": \"STRING\", \"name\": \"mxpsd\", \"description\": \"Maximum sustained wind speed reported for the day in knots to tenths. Missing = 999.9\"}, {\"type\": \"FLOAT\", \"name\": \"gust\", \"description\": \"Maximum wind gust reported for the day in knots to tenths. Missing = 999.9\"}, {\"type\": \"FLOAT\", \"name\": \"max\", \"description\": \"Maximum temperature reported during the day in Fahrenheit to tenths--time of max temp report varies by country and region, so this will sometimes not be the max for the calendar day. Missing = 9999.9\"}, {\"type\": \"STRING\", \"name\": \"flag_max\", \"description\": \"Blank indicates max temp was taken from the explicit max temp report and not from the 'hourly' data.\\n* indicates max temp was  derived from the hourly data (i.e., highest hourly or synoptic-reported temperature)\"}, {\"type\": \"FLOAT\", \"name\": \"min\", \"description\": \"Minimum temperature reported during the day in Fahrenheit to tenths--time of min temp report varies by country and region, so this will sometimes not be the min for the calendar day. Missing = 9999.9\"}, {\"type\": \"STRING\", \"name\": \"flag_min\", \"description\": \"Blank indicates min temp was taken from the explicit min temp report and not from the 'hourly' data.\\n* indicates min temp was derived from the hourly data (i.e., lowest hourly or synoptic-reported temperature)\"}, {\"type\": \"FLOAT\", \"name\": \"prcp\", \"description\": \"Total precipitation (rain and/or melted snow) reported during the day in inches and hundredths; will usually not end with the midnight observation--i.e., may include latter part of previous day. \\n.00 indicates no measurable precipitation (includes a trace).\\nMissing = 99.99\\nNote: Many stations do not report '0' on days with no precipitation--therefore, '99.99' will often appear on these days. Also, for example, a station may only report a 6-hour amount for the period during which rain fell. See Flag field for source of data\"}, {\"type\": \"STRING\", \"name\": \"flag_prcp\", \"description\": \"A = 1 report of 6-hour precipitation amount\\nB = Summation of 2 reports of 6-hour precipitation amount\\nC = Summation of 3 reports of 6-hour precipitation amount\\nD = Summation of 4 reports of 6-hour precipitation amount\\nE = 1 report of 12-hour precipitation amount\\nF = Summation of 2 reports of 12-hour precipitation amount\\nG = 1 report of 24-hour precipitation amount\\nH = Station reported '0' as the amount for the day (eg, from 6-hour reports), but also reported at least one occurrence of precipitation in hourly observations--this could indicate a trace occurred, but should be considered as incomplete data for the day.\\nI = Station did not report any precip data for the day and did not report any occurrences of precipitation in its hourly observations--it's still possible that precip occurred but was not reported\"}, {\"type\": \"FLOAT\", \"name\": \"sndp\", \"description\": \"Snow depth in inches to tenths--last report for the day if reported more thanonce. Missing = 999.9\\nNote: Most stations do not report '0' ondays with no snow on the ground--therefore, '999.9' will often appear on these days\"}, {\"type\": \"STRING\", \"name\": \"fog\", \"description\": \"Indicators (1 = yes, 0 = no/not reported) for the occurrence during the day\"}, {\"type\": \"STRING\", \"name\": \"rain_drizzle\", \"description\": \"Indicators (1 = yes, 0 = no/not reported) for the occurrence during the day\"}, {\"type\": \"STRING\", \"name\": \"snow_ice_pellets\", \"description\": \"Indicators (1 = yes, 0 = no/not reported) for the occurrence during the day\"}, {\"type\": \"STRING\", \"name\": \"hail\", \"description\": \"Indicators (1 = yes, 0 = no/not reported) for the occurrence during the day\"}, {\"type\": \"STRING\", \"name\": \"thunder\", \"description\": \"Indicators (1 = yes, 0 = no/not reported) for the occurrence during the day\"}, {\"type\": \"STRING\", \"name\": \"tornado_funnel_cloud\", \"description\": \"Indicators (1 = yes, 0 = no/not reported) for the occurrence during the day\"}]);\n",
       "        }\n",
       "      );\n",
       "    </script>\n",
       "    "
      ],
      "text/plain": [
       "<IPython.core.display.HTML object>"
      ]
     },
     "execution_count": 10,
     "metadata": {},
     "output_type": "execute_result"
    }
   ],
   "source": [
    "%bq tables describe --name bigquery-public-data.noaa_gsod.gsod2015"
   ]
  },
  {
   "cell_type": "markdown",
   "metadata": {
    "deletable": true,
    "editable": true
   },
   "source": [
    "6) Transformação dos dados obtidos x consulta BigQuery para DataFrame - ClimaDataSet"
   ]
  },
  {
   "cell_type": "code",
   "execution_count": 11,
   "metadata": {
    "collapsed": true,
    "deletable": true,
    "editable": true
   },
   "outputs": [],
   "source": [
    "%bq query -n wxquery\n",
    "select extract(dayofyear from cast(concat(@YEAR, '-', mo, '-', da) as timestamp)) as daynumber, \n",
    "  min(extract(dayofweek from cast(concat(@YEAR, '-', mo, '-', da) as timestamp))) as dayofweek, \n",
    "  min(min) as mintemp, max(max) as maxtemp, max(if(prcp=99.99, 0, prcp)) as rain\n",
    "from `bigquery-public-data.noaa_gsod.gsod*`\n",
    "where stn = '725030' and _TABLE_SUFFIX = @YEAR\n",
    "group by 1\n",
    "order by daynumber desc"
   ]
  },
  {
   "cell_type": "code",
   "execution_count": 12,
   "metadata": {
    "collapsed": false,
    "deletable": true,
    "editable": true
   },
   "outputs": [
    {
     "data": {
      "text/html": [
       "<div>\n",
       "<style scoped>\n",
       "    .dataframe tbody tr th:only-of-type {\n",
       "        vertical-align: middle;\n",
       "    }\n",
       "\n",
       "    .dataframe tbody tr th {\n",
       "        vertical-align: top;\n",
       "    }\n",
       "\n",
       "    .dataframe thead th {\n",
       "        text-align: right;\n",
       "    }\n",
       "</style>\n",
       "<table border=\"1\" class=\"dataframe\">\n",
       "  <thead>\n",
       "    <tr style=\"text-align: right;\">\n",
       "      <th></th>\n",
       "      <th>daynumber</th>\n",
       "      <th>dayofweek</th>\n",
       "      <th>mintemp</th>\n",
       "      <th>maxtemp</th>\n",
       "      <th>rain</th>\n",
       "    </tr>\n",
       "  </thead>\n",
       "  <tbody>\n",
       "    <tr>\n",
       "      <th>0</th>\n",
       "      <td>365</td>\n",
       "      <td>5</td>\n",
       "      <td>46.0</td>\n",
       "      <td>48.2</td>\n",
       "      <td>0.17</td>\n",
       "    </tr>\n",
       "    <tr>\n",
       "      <th>1</th>\n",
       "      <td>364</td>\n",
       "      <td>4</td>\n",
       "      <td>34.0</td>\n",
       "      <td>48.0</td>\n",
       "      <td>0.13</td>\n",
       "    </tr>\n",
       "    <tr>\n",
       "      <th>2</th>\n",
       "      <td>363</td>\n",
       "      <td>3</td>\n",
       "      <td>33.8</td>\n",
       "      <td>46.9</td>\n",
       "      <td>0.37</td>\n",
       "    </tr>\n",
       "    <tr>\n",
       "      <th>3</th>\n",
       "      <td>362</td>\n",
       "      <td>2</td>\n",
       "      <td>39.0</td>\n",
       "      <td>62.1</td>\n",
       "      <td>0.02</td>\n",
       "    </tr>\n",
       "    <tr>\n",
       "      <th>4</th>\n",
       "      <td>361</td>\n",
       "      <td>1</td>\n",
       "      <td>46.0</td>\n",
       "      <td>62.6</td>\n",
       "      <td>0.14</td>\n",
       "    </tr>\n",
       "    <tr>\n",
       "      <th>5</th>\n",
       "      <td>360</td>\n",
       "      <td>7</td>\n",
       "      <td>50.0</td>\n",
       "      <td>64.0</td>\n",
       "      <td>0.03</td>\n",
       "    </tr>\n",
       "    <tr>\n",
       "      <th>6</th>\n",
       "      <td>359</td>\n",
       "      <td>6</td>\n",
       "      <td>54.0</td>\n",
       "      <td>72.0</td>\n",
       "      <td>0.01</td>\n",
       "    </tr>\n",
       "    <tr>\n",
       "      <th>7</th>\n",
       "      <td>358</td>\n",
       "      <td>5</td>\n",
       "      <td>50.0</td>\n",
       "      <td>72.0</td>\n",
       "      <td>1.46</td>\n",
       "    </tr>\n",
       "    <tr>\n",
       "      <th>8</th>\n",
       "      <td>357</td>\n",
       "      <td>4</td>\n",
       "      <td>50.0</td>\n",
       "      <td>62.1</td>\n",
       "      <td>0.18</td>\n",
       "    </tr>\n",
       "    <tr>\n",
       "      <th>9</th>\n",
       "      <td>356</td>\n",
       "      <td>3</td>\n",
       "      <td>55.0</td>\n",
       "      <td>62.6</td>\n",
       "      <td>0.00</td>\n",
       "    </tr>\n",
       "  </tbody>\n",
       "</table>\n",
       "</div>"
      ],
      "text/plain": [
       "   daynumber  dayofweek  mintemp  maxtemp  rain\n",
       "0        365          5     46.0     48.2  0.17\n",
       "1        364          4     34.0     48.0  0.13\n",
       "2        363          3     33.8     46.9  0.37\n",
       "3        362          2     39.0     62.1  0.02\n",
       "4        361          1     46.0     62.6  0.14\n",
       "5        360          7     50.0     64.0  0.03\n",
       "6        359          6     54.0     72.0  0.01\n",
       "7        358          5     50.0     72.0  1.46\n",
       "8        357          4     50.0     62.1  0.18\n",
       "9        356          3     55.0     62.6  0.00"
      ]
     },
     "execution_count": 12,
     "metadata": {},
     "output_type": "execute_result"
    }
   ],
   "source": [
    "query_parameters = [\n",
    "  {\n",
    "    'name' : 'YEAR', \n",
    "    'parameterType'  : {'type'  : 'STRING'},\n",
    "    'parameterValue' : {'value' : 2015}\n",
    "  }\n",
    "]\n",
    "\n",
    "weather = wxquery.execute(query_params = query_parameters).result().to_dataframe()\n",
    "weather[:10]"
   ]
  },
  {
   "cell_type": "markdown",
   "metadata": {
    "deletable": true,
    "editable": true
   },
   "source": [
    "7) Criar dataset de predição merge (trips e weather)"
   ]
  },
  {
   "cell_type": "code",
   "execution_count": 13,
   "metadata": {
    "collapsed": false,
    "deletable": true,
    "editable": true
   },
   "outputs": [
    {
     "data": {
      "text/html": [
       "<div>\n",
       "<style scoped>\n",
       "    .dataframe tbody tr th:only-of-type {\n",
       "        vertical-align: middle;\n",
       "    }\n",
       "\n",
       "    .dataframe tbody tr th {\n",
       "        vertical-align: top;\n",
       "    }\n",
       "\n",
       "    .dataframe thead th {\n",
       "        text-align: right;\n",
       "    }\n",
       "</style>\n",
       "<table border=\"1\" class=\"dataframe\">\n",
       "  <thead>\n",
       "    <tr style=\"text-align: right;\">\n",
       "      <th></th>\n",
       "      <th>daynumber</th>\n",
       "      <th>numtrips</th>\n",
       "      <th>dayofweek</th>\n",
       "      <th>mintemp</th>\n",
       "      <th>maxtemp</th>\n",
       "      <th>rain</th>\n",
       "    </tr>\n",
       "  </thead>\n",
       "  <tbody>\n",
       "    <tr>\n",
       "      <th>0</th>\n",
       "      <td>1</td>\n",
       "      <td>382014</td>\n",
       "      <td>5</td>\n",
       "      <td>27.0</td>\n",
       "      <td>39.0</td>\n",
       "      <td>0.00</td>\n",
       "    </tr>\n",
       "    <tr>\n",
       "      <th>1</th>\n",
       "      <td>2</td>\n",
       "      <td>345296</td>\n",
       "      <td>6</td>\n",
       "      <td>27.0</td>\n",
       "      <td>42.1</td>\n",
       "      <td>0.00</td>\n",
       "    </tr>\n",
       "    <tr>\n",
       "      <th>2</th>\n",
       "      <td>3</td>\n",
       "      <td>406769</td>\n",
       "      <td>7</td>\n",
       "      <td>30.9</td>\n",
       "      <td>42.1</td>\n",
       "      <td>0.00</td>\n",
       "    </tr>\n",
       "    <tr>\n",
       "      <th>3</th>\n",
       "      <td>4</td>\n",
       "      <td>328848</td>\n",
       "      <td>1</td>\n",
       "      <td>30.9</td>\n",
       "      <td>57.0</td>\n",
       "      <td>0.85</td>\n",
       "    </tr>\n",
       "    <tr>\n",
       "      <th>4</th>\n",
       "      <td>5</td>\n",
       "      <td>363454</td>\n",
       "      <td>2</td>\n",
       "      <td>28.9</td>\n",
       "      <td>57.0</td>\n",
       "      <td>0.13</td>\n",
       "    </tr>\n",
       "    <tr>\n",
       "      <th>5</th>\n",
       "      <td>6</td>\n",
       "      <td>384324</td>\n",
       "      <td>3</td>\n",
       "      <td>17.6</td>\n",
       "      <td>28.9</td>\n",
       "      <td>0.00</td>\n",
       "    </tr>\n",
       "    <tr>\n",
       "      <th>6</th>\n",
       "      <td>7</td>\n",
       "      <td>429653</td>\n",
       "      <td>4</td>\n",
       "      <td>15.1</td>\n",
       "      <td>25.0</td>\n",
       "      <td>0.05</td>\n",
       "    </tr>\n",
       "    <tr>\n",
       "      <th>7</th>\n",
       "      <td>8</td>\n",
       "      <td>450920</td>\n",
       "      <td>5</td>\n",
       "      <td>8.1</td>\n",
       "      <td>25.0</td>\n",
       "      <td>0.00</td>\n",
       "    </tr>\n",
       "    <tr>\n",
       "      <th>8</th>\n",
       "      <td>9</td>\n",
       "      <td>447947</td>\n",
       "      <td>6</td>\n",
       "      <td>8.1</td>\n",
       "      <td>33.1</td>\n",
       "      <td>0.00</td>\n",
       "    </tr>\n",
       "    <tr>\n",
       "      <th>9</th>\n",
       "      <td>10</td>\n",
       "      <td>515540</td>\n",
       "      <td>7</td>\n",
       "      <td>17.1</td>\n",
       "      <td>33.1</td>\n",
       "      <td>0.06</td>\n",
       "    </tr>\n",
       "  </tbody>\n",
       "</table>\n",
       "</div>"
      ],
      "text/plain": [
       "   daynumber  numtrips  dayofweek  mintemp  maxtemp  rain\n",
       "0          1    382014          5     27.0     39.0  0.00\n",
       "1          2    345296          6     27.0     42.1  0.00\n",
       "2          3    406769          7     30.9     42.1  0.00\n",
       "3          4    328848          1     30.9     57.0  0.85\n",
       "4          5    363454          2     28.9     57.0  0.13\n",
       "5          6    384324          3     17.6     28.9  0.00\n",
       "6          7    429653          4     15.1     25.0  0.05\n",
       "7          8    450920          5      8.1     25.0  0.00\n",
       "8          9    447947          6      8.1     33.1  0.00\n",
       "9         10    515540          7     17.1     33.1  0.06"
      ]
     },
     "execution_count": 13,
     "metadata": {},
     "output_type": "execute_result"
    }
   ],
   "source": [
    "data = pd.merge(trips, weather, on = 'daynumber')\n",
    "data[:10]"
   ]
  },
  {
   "cell_type": "markdown",
   "metadata": {
    "deletable": true,
    "editable": true
   },
   "source": [
    "8) Visualização de dados"
   ]
  },
  {
   "cell_type": "code",
   "execution_count": 15,
   "metadata": {
    "collapsed": false,
    "deletable": true,
    "editable": true
   },
   "outputs": [
    {
     "data": {
      "image/png": "[encoded data removed]",
      "text/plain": [
       "<matplotlib.figure.Figure at 0x7fa101e25ed0>"
      ]
     },
     "metadata": {},
     "output_type": "display_data"
    }
   ],
   "source": [
    "plot1 = data.plot(kind = 'scatter', x = 'maxtemp', y = 'numtrips')"
   ]
  },
  {
   "cell_type": "code",
   "execution_count": 16,
   "metadata": {
    "collapsed": false,
    "deletable": true,
    "editable": true
   },
   "outputs": [
    {
     "data": {
      "image/png": "[encoded data removed]",
      "text/plain": [
       "<matplotlib.figure.Figure at 0x7fa101d4d950>"
      ]
     },
     "metadata": {},
     "output_type": "display_data"
    }
   ],
   "source": [
    "plot2 = data.plot(kind = 'scatter', x = 'dayofweek', y = 'numtrips')"
   ]
  },
  {
   "cell_type": "markdown",
   "metadata": {
    "deletable": true,
    "editable": true
   },
   "source": [
    "9) Trabalhando com dados consolidados 2014, 2015, 2016"
   ]
  },
  {
   "cell_type": "code",
   "execution_count": 18,
   "metadata": {
    "collapsed": false,
    "deletable": true,
    "editable": true
   },
   "outputs": [
    {
     "data": {
      "text/html": [
       "<div>\n",
       "<style scoped>\n",
       "    .dataframe tbody tr th:only-of-type {\n",
       "        vertical-align: middle;\n",
       "    }\n",
       "\n",
       "    .dataframe tbody tr th {\n",
       "        vertical-align: top;\n",
       "    }\n",
       "\n",
       "    .dataframe thead th {\n",
       "        text-align: right;\n",
       "    }\n",
       "</style>\n",
       "<table border=\"1\" class=\"dataframe\">\n",
       "  <thead>\n",
       "    <tr style=\"text-align: right;\">\n",
       "      <th></th>\n",
       "      <th>daynumber</th>\n",
       "      <th>numtrips</th>\n",
       "      <th>dayofweek</th>\n",
       "      <th>mintemp</th>\n",
       "      <th>maxtemp</th>\n",
       "      <th>rain</th>\n",
       "    </tr>\n",
       "  </thead>\n",
       "  <tbody>\n",
       "    <tr>\n",
       "      <th>0</th>\n",
       "      <td>1</td>\n",
       "      <td>382014</td>\n",
       "      <td>5</td>\n",
       "      <td>27.0</td>\n",
       "      <td>39.0</td>\n",
       "      <td>0.00</td>\n",
       "    </tr>\n",
       "    <tr>\n",
       "      <th>1</th>\n",
       "      <td>2</td>\n",
       "      <td>345296</td>\n",
       "      <td>6</td>\n",
       "      <td>27.0</td>\n",
       "      <td>42.1</td>\n",
       "      <td>0.00</td>\n",
       "    </tr>\n",
       "    <tr>\n",
       "      <th>2</th>\n",
       "      <td>3</td>\n",
       "      <td>406769</td>\n",
       "      <td>7</td>\n",
       "      <td>30.9</td>\n",
       "      <td>42.1</td>\n",
       "      <td>0.00</td>\n",
       "    </tr>\n",
       "    <tr>\n",
       "      <th>3</th>\n",
       "      <td>4</td>\n",
       "      <td>328848</td>\n",
       "      <td>1</td>\n",
       "      <td>30.9</td>\n",
       "      <td>57.0</td>\n",
       "      <td>0.85</td>\n",
       "    </tr>\n",
       "    <tr>\n",
       "      <th>4</th>\n",
       "      <td>5</td>\n",
       "      <td>363454</td>\n",
       "      <td>2</td>\n",
       "      <td>28.9</td>\n",
       "      <td>57.0</td>\n",
       "      <td>0.13</td>\n",
       "    </tr>\n",
       "    <tr>\n",
       "      <th>5</th>\n",
       "      <td>6</td>\n",
       "      <td>384324</td>\n",
       "      <td>3</td>\n",
       "      <td>17.6</td>\n",
       "      <td>28.9</td>\n",
       "      <td>0.00</td>\n",
       "    </tr>\n",
       "    <tr>\n",
       "      <th>6</th>\n",
       "      <td>7</td>\n",
       "      <td>429653</td>\n",
       "      <td>4</td>\n",
       "      <td>15.1</td>\n",
       "      <td>25.0</td>\n",
       "      <td>0.05</td>\n",
       "    </tr>\n",
       "    <tr>\n",
       "      <th>7</th>\n",
       "      <td>8</td>\n",
       "      <td>450920</td>\n",
       "      <td>5</td>\n",
       "      <td>8.1</td>\n",
       "      <td>25.0</td>\n",
       "      <td>0.00</td>\n",
       "    </tr>\n",
       "    <tr>\n",
       "      <th>8</th>\n",
       "      <td>9</td>\n",
       "      <td>447947</td>\n",
       "      <td>6</td>\n",
       "      <td>8.1</td>\n",
       "      <td>33.1</td>\n",
       "      <td>0.00</td>\n",
       "    </tr>\n",
       "    <tr>\n",
       "      <th>9</th>\n",
       "      <td>10</td>\n",
       "      <td>515540</td>\n",
       "      <td>7</td>\n",
       "      <td>17.1</td>\n",
       "      <td>33.1</td>\n",
       "      <td>0.06</td>\n",
       "    </tr>\n",
       "  </tbody>\n",
       "</table>\n",
       "</div>"
      ],
      "text/plain": [
       "   daynumber  numtrips  dayofweek  mintemp  maxtemp  rain\n",
       "0          1    382014          5     27.0     39.0  0.00\n",
       "1          2    345296          6     27.0     42.1  0.00\n",
       "2          3    406769          7     30.9     42.1  0.00\n",
       "3          4    328848          1     30.9     57.0  0.85\n",
       "4          5    363454          2     28.9     57.0  0.13\n",
       "5          6    384324          3     17.6     28.9  0.00\n",
       "6          7    429653          4     15.1     25.0  0.05\n",
       "7          8    450920          5      8.1     25.0  0.00\n",
       "8          9    447947          6      8.1     33.1  0.00\n",
       "9         10    515540          7     17.1     33.1  0.06"
      ]
     },
     "execution_count": 18,
     "metadata": {},
     "output_type": "execute_result"
    }
   ],
   "source": [
    "data2 = data\n",
    "for year in [2014, 2016]:\n",
    "  query_parameters = [\n",
    "    {\n",
    "      'name' : 'YEAR',\n",
    "      'parameterType' : {'type' : 'STRING'},\n",
    "      'parameterValue' : {'value' : year}\n",
    "    }\n",
    "  ]\n",
    "  trip = taxiquery.execute(query_params = query_parameters).result().to_dataframe()\n",
    "  weather = wxquery.execute(query_params = query_parameters).result().to_dataframe()\n",
    "  data_for_year = pd.merge(trip, weather, on = 'daynumber')\n",
    "  data2 = pd.concat([data2, data_for_year])\n",
    "data2[:10]\n",
    "#data2.describe()"
   ]
  },
  {
   "cell_type": "markdown",
   "metadata": {},
   "source": [
    "MACHINE LEARNING USANDO TENSORFLOW"
   ]
  },
  {
   "cell_type": "markdown",
   "metadata": {},
   "source": [
    "10) Embaralhar aleatóriamente o dataset"
   ]
  },
  {
   "cell_type": "code",
   "execution_count": 20,
   "metadata": {
    "collapsed": false,
    "deletable": true,
    "editable": true
   },
   "outputs": [
    {
     "data": {
      "text/html": [
       "<div>\n",
       "<style scoped>\n",
       "    .dataframe tbody tr th:only-of-type {\n",
       "        vertical-align: middle;\n",
       "    }\n",
       "\n",
       "    .dataframe tbody tr th {\n",
       "        vertical-align: top;\n",
       "    }\n",
       "\n",
       "    .dataframe thead th {\n",
       "        text-align: right;\n",
       "    }\n",
       "</style>\n",
       "<table border=\"1\" class=\"dataframe\">\n",
       "  <thead>\n",
       "    <tr style=\"text-align: right;\">\n",
       "      <th></th>\n",
       "      <th>daynumber</th>\n",
       "      <th>numtrips</th>\n",
       "      <th>dayofweek</th>\n",
       "      <th>mintemp</th>\n",
       "      <th>maxtemp</th>\n",
       "      <th>rain</th>\n",
       "    </tr>\n",
       "  </thead>\n",
       "  <tbody>\n",
       "    <tr>\n",
       "      <th>44</th>\n",
       "      <td>45</td>\n",
       "      <td>501397</td>\n",
       "      <td>7</td>\n",
       "      <td>9.0</td>\n",
       "      <td>32.0</td>\n",
       "      <td>0.00</td>\n",
       "    </tr>\n",
       "    <tr>\n",
       "      <th>203</th>\n",
       "      <td>204</td>\n",
       "      <td>466725</td>\n",
       "      <td>4</td>\n",
       "      <td>72.0</td>\n",
       "      <td>89.1</td>\n",
       "      <td>0.00</td>\n",
       "    </tr>\n",
       "    <tr>\n",
       "      <th>56</th>\n",
       "      <td>57</td>\n",
       "      <td>471732</td>\n",
       "      <td>5</td>\n",
       "      <td>21.0</td>\n",
       "      <td>37.9</td>\n",
       "      <td>0.00</td>\n",
       "    </tr>\n",
       "    <tr>\n",
       "      <th>271</th>\n",
       "      <td>272</td>\n",
       "      <td>400318</td>\n",
       "      <td>2</td>\n",
       "      <td>64.9</td>\n",
       "      <td>84.0</td>\n",
       "      <td>0.00</td>\n",
       "    </tr>\n",
       "    <tr>\n",
       "      <th>121</th>\n",
       "      <td>122</td>\n",
       "      <td>516985</td>\n",
       "      <td>6</td>\n",
       "      <td>48.9</td>\n",
       "      <td>77.0</td>\n",
       "      <td>0.01</td>\n",
       "    </tr>\n",
       "    <tr>\n",
       "      <th>96</th>\n",
       "      <td>97</td>\n",
       "      <td>425909</td>\n",
       "      <td>3</td>\n",
       "      <td>39.0</td>\n",
       "      <td>60.1</td>\n",
       "      <td>0.01</td>\n",
       "    </tr>\n",
       "    <tr>\n",
       "      <th>31</th>\n",
       "      <td>32</td>\n",
       "      <td>341323</td>\n",
       "      <td>2</td>\n",
       "      <td>37.0</td>\n",
       "      <td>59.0</td>\n",
       "      <td>0.00</td>\n",
       "    </tr>\n",
       "    <tr>\n",
       "      <th>51</th>\n",
       "      <td>52</td>\n",
       "      <td>455297</td>\n",
       "      <td>7</td>\n",
       "      <td>3.0</td>\n",
       "      <td>28.9</td>\n",
       "      <td>0.01</td>\n",
       "    </tr>\n",
       "    <tr>\n",
       "      <th>107</th>\n",
       "      <td>108</td>\n",
       "      <td>500928</td>\n",
       "      <td>7</td>\n",
       "      <td>54.0</td>\n",
       "      <td>79.0</td>\n",
       "      <td>0.00</td>\n",
       "    </tr>\n",
       "    <tr>\n",
       "      <th>301</th>\n",
       "      <td>302</td>\n",
       "      <td>454041</td>\n",
       "      <td>4</td>\n",
       "      <td>53.1</td>\n",
       "      <td>72.0</td>\n",
       "      <td>0.00</td>\n",
       "    </tr>\n",
       "  </tbody>\n",
       "</table>\n",
       "</div>"
      ],
      "text/plain": [
       "     daynumber  numtrips  dayofweek  mintemp  maxtemp  rain\n",
       "44          45    501397          7      9.0     32.0  0.00\n",
       "203        204    466725          4     72.0     89.1  0.00\n",
       "56          57    471732          5     21.0     37.9  0.00\n",
       "271        272    400318          2     64.9     84.0  0.00\n",
       "121        122    516985          6     48.9     77.0  0.01\n",
       "96          97    425909          3     39.0     60.1  0.01\n",
       "31          32    341323          2     37.0     59.0  0.00\n",
       "51          52    455297          7      3.0     28.9  0.01\n",
       "107        108    500928          7     54.0     79.0  0.00\n",
       "301        302    454041          4     53.1     72.0  0.00"
      ]
     },
     "execution_count": 20,
     "metadata": {},
     "output_type": "execute_result"
    }
   ],
   "source": [
    "import tensorflow as tf\n",
    "shuffled = data2.sample(frac = 1, random_state = 42)\n",
    "shuffled[:10]"
   ]
  },
  {
   "cell_type": "markdown",
   "metadata": {},
   "source": [
    "11) Preprocessamento: Transformar variáveis categóricas => variáveis numéricas   \n",
    "[Matriz de caraterísticas - X]"
   ]
  },
  {
   "cell_type": "code",
   "execution_count": 24,
   "metadata": {
    "collapsed": false
   },
   "outputs": [
    {
     "data": {
      "text/html": [
       "<div>\n",
       "<style scoped>\n",
       "    .dataframe tbody tr th:only-of-type {\n",
       "        vertical-align: middle;\n",
       "    }\n",
       "\n",
       "    .dataframe tbody tr th {\n",
       "        vertical-align: top;\n",
       "    }\n",
       "\n",
       "    .dataframe thead th {\n",
       "        text-align: right;\n",
       "    }\n",
       "</style>\n",
       "<table border=\"1\" class=\"dataframe\">\n",
       "  <thead>\n",
       "    <tr style=\"text-align: right;\">\n",
       "      <th></th>\n",
       "      <th>mintemp</th>\n",
       "      <th>maxtemp</th>\n",
       "      <th>rain</th>\n",
       "      <th>day_1</th>\n",
       "      <th>day_2</th>\n",
       "      <th>day_3</th>\n",
       "      <th>day_4</th>\n",
       "      <th>day_5</th>\n",
       "      <th>day_6</th>\n",
       "      <th>day_7</th>\n",
       "    </tr>\n",
       "  </thead>\n",
       "  <tbody>\n",
       "    <tr>\n",
       "      <th>44</th>\n",
       "      <td>9.0</td>\n",
       "      <td>32.0</td>\n",
       "      <td>0.00</td>\n",
       "      <td>0.0</td>\n",
       "      <td>0.0</td>\n",
       "      <td>0.0</td>\n",
       "      <td>0.0</td>\n",
       "      <td>0.0</td>\n",
       "      <td>0.0</td>\n",
       "      <td>1.0</td>\n",
       "    </tr>\n",
       "    <tr>\n",
       "      <th>203</th>\n",
       "      <td>72.0</td>\n",
       "      <td>89.1</td>\n",
       "      <td>0.00</td>\n",
       "      <td>0.0</td>\n",
       "      <td>0.0</td>\n",
       "      <td>0.0</td>\n",
       "      <td>1.0</td>\n",
       "      <td>0.0</td>\n",
       "      <td>0.0</td>\n",
       "      <td>0.0</td>\n",
       "    </tr>\n",
       "    <tr>\n",
       "      <th>56</th>\n",
       "      <td>21.0</td>\n",
       "      <td>37.9</td>\n",
       "      <td>0.00</td>\n",
       "      <td>0.0</td>\n",
       "      <td>0.0</td>\n",
       "      <td>0.0</td>\n",
       "      <td>0.0</td>\n",
       "      <td>1.0</td>\n",
       "      <td>0.0</td>\n",
       "      <td>0.0</td>\n",
       "    </tr>\n",
       "    <tr>\n",
       "      <th>271</th>\n",
       "      <td>64.9</td>\n",
       "      <td>84.0</td>\n",
       "      <td>0.00</td>\n",
       "      <td>0.0</td>\n",
       "      <td>1.0</td>\n",
       "      <td>0.0</td>\n",
       "      <td>0.0</td>\n",
       "      <td>0.0</td>\n",
       "      <td>0.0</td>\n",
       "      <td>0.0</td>\n",
       "    </tr>\n",
       "    <tr>\n",
       "      <th>121</th>\n",
       "      <td>48.9</td>\n",
       "      <td>77.0</td>\n",
       "      <td>0.01</td>\n",
       "      <td>0.0</td>\n",
       "      <td>0.0</td>\n",
       "      <td>0.0</td>\n",
       "      <td>0.0</td>\n",
       "      <td>0.0</td>\n",
       "      <td>1.0</td>\n",
       "      <td>0.0</td>\n",
       "    </tr>\n",
       "    <tr>\n",
       "      <th>96</th>\n",
       "      <td>39.0</td>\n",
       "      <td>60.1</td>\n",
       "      <td>0.01</td>\n",
       "      <td>0.0</td>\n",
       "      <td>0.0</td>\n",
       "      <td>1.0</td>\n",
       "      <td>0.0</td>\n",
       "      <td>0.0</td>\n",
       "      <td>0.0</td>\n",
       "      <td>0.0</td>\n",
       "    </tr>\n",
       "    <tr>\n",
       "      <th>31</th>\n",
       "      <td>37.0</td>\n",
       "      <td>59.0</td>\n",
       "      <td>0.00</td>\n",
       "      <td>0.0</td>\n",
       "      <td>1.0</td>\n",
       "      <td>0.0</td>\n",
       "      <td>0.0</td>\n",
       "      <td>0.0</td>\n",
       "      <td>0.0</td>\n",
       "      <td>0.0</td>\n",
       "    </tr>\n",
       "    <tr>\n",
       "      <th>51</th>\n",
       "      <td>3.0</td>\n",
       "      <td>28.9</td>\n",
       "      <td>0.01</td>\n",
       "      <td>0.0</td>\n",
       "      <td>0.0</td>\n",
       "      <td>0.0</td>\n",
       "      <td>0.0</td>\n",
       "      <td>0.0</td>\n",
       "      <td>0.0</td>\n",
       "      <td>1.0</td>\n",
       "    </tr>\n",
       "    <tr>\n",
       "      <th>107</th>\n",
       "      <td>54.0</td>\n",
       "      <td>79.0</td>\n",
       "      <td>0.00</td>\n",
       "      <td>0.0</td>\n",
       "      <td>0.0</td>\n",
       "      <td>0.0</td>\n",
       "      <td>0.0</td>\n",
       "      <td>0.0</td>\n",
       "      <td>0.0</td>\n",
       "      <td>1.0</td>\n",
       "    </tr>\n",
       "    <tr>\n",
       "      <th>301</th>\n",
       "      <td>53.1</td>\n",
       "      <td>72.0</td>\n",
       "      <td>0.00</td>\n",
       "      <td>0.0</td>\n",
       "      <td>0.0</td>\n",
       "      <td>0.0</td>\n",
       "      <td>1.0</td>\n",
       "      <td>0.0</td>\n",
       "      <td>0.0</td>\n",
       "      <td>0.0</td>\n",
       "    </tr>\n",
       "  </tbody>\n",
       "</table>\n",
       "</div>"
      ],
      "text/plain": [
       "     mintemp  maxtemp  rain  day_1  day_2  day_3  day_4  day_5  day_6  day_7\n",
       "44       9.0     32.0  0.00    0.0    0.0    0.0    0.0    0.0    0.0    1.0\n",
       "203     72.0     89.1  0.00    0.0    0.0    0.0    1.0    0.0    0.0    0.0\n",
       "56      21.0     37.9  0.00    0.0    0.0    0.0    0.0    1.0    0.0    0.0\n",
       "271     64.9     84.0  0.00    0.0    1.0    0.0    0.0    0.0    0.0    0.0\n",
       "121     48.9     77.0  0.01    0.0    0.0    0.0    0.0    0.0    1.0    0.0\n",
       "96      39.0     60.1  0.01    0.0    0.0    1.0    0.0    0.0    0.0    0.0\n",
       "31      37.0     59.0  0.00    0.0    1.0    0.0    0.0    0.0    0.0    0.0\n",
       "51       3.0     28.9  0.01    0.0    0.0    0.0    0.0    0.0    0.0    1.0\n",
       "107     54.0     79.0  0.00    0.0    0.0    0.0    0.0    0.0    0.0    1.0\n",
       "301     53.1     72.0  0.00    0.0    0.0    0.0    1.0    0.0    0.0    0.0"
      ]
     },
     "execution_count": 24,
     "metadata": {},
     "output_type": "execute_result"
    }
   ],
   "source": [
    "x = shuffled.iloc[:, 3:6]\n",
    "for day in range(1, 8):\n",
    "  matching = shuffled['dayofweek'] == day\n",
    "  key = 'day_' + str(day)\n",
    "  x.loc[matching, key] = 1\n",
    "  x.loc[~matching, key] = 0\n",
    "x[:10]"
   ]
  },
  {
   "cell_type": "markdown",
   "metadata": {},
   "source": [
    "12) Definir variável dependente   \n",
    "[Tarjet Variable - Y]"
   ]
  },
  {
   "cell_type": "code",
   "execution_count": 26,
   "metadata": {
    "collapsed": false
   },
   "outputs": [
    {
     "data": {
      "text/plain": [
       "44     501397\n",
       "203    466725\n",
       "56     471732\n",
       "271    400318\n",
       "121    516985\n",
       "96     425909\n",
       "31     341323\n",
       "51     455297\n",
       "107    500928\n",
       "301    454041\n",
       "Name: numtrips, dtype: int64"
      ]
     },
     "execution_count": 26,
     "metadata": {},
     "output_type": "execute_result"
    }
   ],
   "source": [
    "y = shuffled.iloc[:, 1]\n",
    "y[:10]"
   ]
  },
  {
   "cell_type": "markdown",
   "metadata": {},
   "source": [
    "-------------------------------------  TREINAMENTO/ AVALIAÇÃO - MODELO LINEAR-REGRESSION ---------------------------------------"
   ]
  },
  {
   "cell_type": "markdown",
   "metadata": {},
   "source": [
    "13) Treinamento usando LinearRegression"
   ]
  },
  {
   "cell_type": "code",
   "execution_count": 57,
   "metadata": {
    "collapsed": false
   },
   "outputs": [
    {
     "name": "stdout",
     "output_type": "stream",
     "text": [
      "WARNING:tensorflow:float64 is not supported by many models, consider casting to float32.\n",
      "Iniciando o processo de treinamento ... \n",
      " [espere alguns minutos]\n"
     ]
    },
    {
     "data": {
      "text/plain": [
       "LinearRegressor(params={'gradient_clip_norm': None, 'head': <tensorflow.contrib.learn.python.learn.estimators.head._RegressionHead object at 0x7fa0e01fd590>, 'joint_weights': False, 'optimizer': None, 'feature_columns': [_RealValuedColumn(column_name='', dimension=10, default_value=None, dtype=tf.float64, normalizer=None)]})"
      ]
     },
     "execution_count": 57,
     "metadata": {},
     "output_type": "execute_result"
    }
   ],
   "source": [
    "#definição de um valor top para normalizar outputs\n",
    "SCALE_NUM_TRIPS = 600000.0 \n",
    "train_size = int(0.8 * len(shuffled['numtrips']))\n",
    "test_size = len(shuffled['numtrips']) - train_size\n",
    "n_inputs = len(x.columns)\n",
    "n_outputs = 1\n",
    "#mudar a informação a cada 100 passos:\n",
    "tf.logging.set_verbosity(tf.logging.WARN)\n",
    "shutil.rmtree('./trained_model_linear', ignore_errors = True)\n",
    "#regressor\n",
    "regressor = tf.contrib.learn.LinearRegressor(model_dir = './trained_model_linear', \n",
    "                      feature_columns = tf.contrib.learn.infer_real_valued_columns_from_input(x.values))\n",
    "print 'Iniciando o processo de treinamento ... \\n [espere alguns minutos]'\n",
    "#definição das entradas para o modelo\n",
    "def input_fn(features, targets): #targets => normalizadas\n",
    "  return tf.constant(features.values), tf.constant(targets.values.reshape(len(targets), n_outputs)/SCALE_NUM_TRIPS)\n",
    "#fixar modelo - conjunto de treinamento\n",
    "regressor.fit(input_fn=lambda: input_fn(x[:train_size], y[:train_size]), steps = 10000)"
   ]
  },
  {
   "cell_type": "markdown",
   "metadata": {},
   "source": [
    "14) Predição de resultados - LinearRegression"
   ]
  },
  {
   "cell_type": "code",
   "execution_count": 58,
   "metadata": {
    "collapsed": false
   },
   "outputs": [
    {
     "name": "stdout",
     "output_type": "stream",
     "text": [
      "WARNING:tensorflow:float64 is not supported by many models, consider casting to float32.\n"
     ]
    },
    {
     "data": {
      "text/plain": [
       "array([405642.9 , 418695.53, 448717.12, 410460.38, 331723.78, 400052.7 ,\n",
       "       396540.22, 409828.56, 363782.6 , 458738.2 ], dtype=float32)"
      ]
     },
     "execution_count": 58,
     "metadata": {},
     "output_type": "execute_result"
    }
   ],
   "source": [
    "#predição usando o modelo - conjunto de teste\n",
    "y_pred = np.multiply(list(regressor.predict(x[train_size:].values)), SCALE_NUM_TRIPS)\n",
    "y_pred[:10]"
   ]
  },
  {
   "cell_type": "code",
   "execution_count": 59,
   "metadata": {
    "collapsed": false
   },
   "outputs": [
    {
     "data": {
      "text/plain": [
       "219    363549\n",
       "276    467371\n",
       "1      345296\n",
       "154    401806\n",
       "213    308763\n",
       "80     429016\n",
       "259    451216\n",
       "252    383524\n",
       "164    341089\n",
       "21     377773\n",
       "Name: numtrips, dtype: int64"
      ]
     },
     "execution_count": 59,
     "metadata": {},
     "output_type": "execute_result"
    }
   ],
   "source": [
    "y[train_size:(train_size+10)]"
   ]
  },
  {
   "cell_type": "markdown",
   "metadata": {},
   "source": [
    "15) Avaliação: Cálculo de estimador RMSE"
   ]
  },
  {
   "cell_type": "code",
   "execution_count": 60,
   "metadata": {
    "collapsed": false
   },
   "outputs": [
    {
     "name": "stdout",
     "output_type": "stream",
     "text": [
      "Linear Regression - RMSE = 56387.4652\n"
     ]
    }
   ],
   "source": [
    "#cálculo do RMSE [root-mean-square-error]: RMSE = sqrt(1/n * SUM(y_real - y_est)^2)\n",
    "rmse = np.sqrt(np.mean(np.power((y[train_size:].values - y_pred), 2)))\n",
    "print('Linear Regression - RMSE = ' + str(round(rmse, 4)))"
   ]
  },
  {
   "cell_type": "markdown",
   "metadata": {},
   "source": [
    "-------------------------------------- TREINAMENTO/AVALIAÇÃO - MODELO DEEP-NEURAL-NETWORK (DNN) -------------------------------------"
   ]
  },
  {
   "cell_type": "markdown",
   "metadata": {},
   "source": [
    "16) Treinamento usando Deep Neural Networks"
   ]
  },
  {
   "cell_type": "code",
   "execution_count": 61,
   "metadata": {
    "collapsed": false
   },
   "outputs": [
    {
     "name": "stdout",
     "output_type": "stream",
     "text": [
      "WARNING:tensorflow:float64 is not supported by many models, consider casting to float32.\n",
      "Iniciando o processo de treinamento ... [Espere alguns minutos]\n"
     ]
    },
    {
     "data": {
      "text/plain": [
       "DNNRegressor(params={'head': <tensorflow.contrib.learn.python.learn.estimators.head._RegressionHead object at 0x7fa0e055c190>, 'hidden_units': [5, 5], 'feature_columns': (_RealValuedColumn(column_name='', dimension=10, default_value=None, dtype=tf.float64, normalizer=None),), 'embedding_lr_multipliers': None, 'optimizer': None, 'dropout': None, 'gradient_clip_norm': None, 'activation_fn': <function relu at 0x7fa10003bc80>, 'input_layer_min_slice_size': None})"
      ]
     },
     "execution_count": 61,
     "metadata": {},
     "output_type": "execute_result"
    }
   ],
   "source": [
    "#definição de um valor TOP para normalizar outputs\n",
    "SCALE_NUM_TRIPS = 600000.0\n",
    "train_size = int(0.8 * len(shuffled['numtrips']))\n",
    "test_size = len(shuffled['numtrips']) - train_size\n",
    "n_inputs = len(x.columns)\n",
    "n_outputs = 1\n",
    "#mudar a informação a cada 100 passos\n",
    "tf.logging.set_verbosity(tf.logging.WARN)\n",
    "shutil.rmtree('./trained_model', ignore_errors = True)\n",
    "#regressor\n",
    "regressor_dnn = tf.contrib.learn.DNNRegressor(model_dir = './trained_model', hidden_units = [5, 5], \n",
    "                          feature_columns = tf.contrib.learn.infer_real_valued_columns_from_input(x.values))\n",
    "print 'Iniciando o processo de treinamento ... [Espere alguns minutos]'\n",
    "#definição de entradas para o modelo\n",
    "def input_fn(features, targets): #targets normalizadas\n",
    "  return tf.constant(features.values), tf.constant(targets.values.reshape(len(targets), n_outputs)/SCALE_NUM_TRIPS)\n",
    "#fixar modelo - conjunto de treinamento\n",
    "regressor_dnn.fit(input_fn = lambda: input_fn(x[:train_size], y[:train_size]), steps = 10000)"
   ]
  },
  {
   "cell_type": "markdown",
   "metadata": {},
   "source": [
    "17) Predição de resultados - Deep Neural Network (DNN)"
   ]
  },
  {
   "cell_type": "code",
   "execution_count": 63,
   "metadata": {
    "collapsed": false
   },
   "outputs": [
    {
     "name": "stdout",
     "output_type": "stream",
     "text": [
      "WARNING:tensorflow:float64 is not supported by many models, consider casting to float32.\n"
     ]
    },
    {
     "data": {
      "text/plain": [
       "array([377044.12, 390464.03, 406537.9 , 380685.5 , 372375.16, 423235.2 ,\n",
       "       392250.22, 384959.03, 409024.44, 459743.72], dtype=float32)"
      ]
     },
     "execution_count": 63,
     "metadata": {},
     "output_type": "execute_result"
    }
   ],
   "source": [
    "#predição usando o modelo - conjunto de teste\n",
    "y_pred_dnn = np.multiply(list(regressor_dnn.predict(x[train_size:].values)), SCALE_NUM_TRIPS)\n",
    "y_pred_dnn[:10]"
   ]
  },
  {
   "cell_type": "code",
   "execution_count": 64,
   "metadata": {
    "collapsed": false
   },
   "outputs": [
    {
     "data": {
      "text/plain": [
       "219    363549\n",
       "276    467371\n",
       "1      345296\n",
       "154    401806\n",
       "213    308763\n",
       "80     429016\n",
       "259    451216\n",
       "252    383524\n",
       "164    341089\n",
       "21     377773\n",
       "Name: numtrips, dtype: int64"
      ]
     },
     "execution_count": 64,
     "metadata": {},
     "output_type": "execute_result"
    }
   ],
   "source": [
    "y[train_size:(train_size + 10)]"
   ]
  },
  {
   "cell_type": "markdown",
   "metadata": {},
   "source": [
    "18) Avaliação - Cálculo do estimador RMSE"
   ]
  },
  {
   "cell_type": "code",
   "execution_count": 65,
   "metadata": {
    "collapsed": false
   },
   "outputs": [
    {
     "name": "stdout",
     "output_type": "stream",
     "text": [
      "Deep Neural Network - RMSE = 62711.9717\n"
     ]
    }
   ],
   "source": [
    "#cálculo do RMSE [root-mean-square-error]: sqrt(1/n * SUM(y_real - y_est)^2)\n",
    "rmse_dnn = np.sqrt(np.mean(np.power((y[train_size:] - y_pred_dnn), 2)))\n",
    "print('Deep Neural Network - RMSE = ' + str(round(rmse_dnn, 4)))"
   ]
  },
  {
   "cell_type": "code",
   "execution_count": null,
   "metadata": {
    "collapsed": true
   },
   "outputs": [],
   "source": []
  }
 ],
 "metadata": {
  "kernelspec": {
   "display_name": "Python 2",
   "language": "python",
   "name": "python2"
  },
  "language_info": {
   "codemirror_mode": {
    "name": "ipython",
    "version": 2
   },
   "file_extension": ".py",
   "mimetype": "text/x-python",
   "name": "python",
   "nbconvert_exporter": "python",
   "pygments_lexer": "ipython2",
   "version": "2.7.15"
  }
 },
 "nbformat": 4,
 "nbformat_minor": 2
}
